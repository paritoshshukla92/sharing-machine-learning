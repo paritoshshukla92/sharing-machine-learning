{
 "cells": [
  {
   "cell_type": "markdown",
   "metadata": {},
   "source": [
    "### <font color='red'> Project 2 : Buzz Prediction on Twitter\n",
    "\n",
    "Project Description:\n",
    "- There are two different datasets for Regression and Classification tasks. Right-most column in both the datasets is a dependent variable i.e. buzz.\n",
    "- Data description files are also provided for both the datasets.\n",
    "- Deciding which dataset is for which task is part of the project.\n",
    "- Read data into Jupyter notebook, use pandas to import data into a data frame.\n",
    "- Preprocess data: Explore data, check for missing data and apply data scaling. Justify the type of scaling used.\n",
    "\n",
    "Regression Task:\n",
    "- Apply all the regression models you've learned so far. If your model has a scaling parameter(s) use Grid Search to find the best scaling parameter. Use plots and graphs to help you get a better glimpse of the results. \n",
    "- Then use cross-validation to find average training and testing score. \n",
    "- Your submission should have at least the following regression models: KNN regressor, linear regression, Ridge, Lasso, polynomial regression, SVM both simple and with kernels. \n",
    "- Finally, find the best regressor for this dataset and train your model on the entire dataset using the best parameters and predict buzz for the test_set.\n",
    "\n",
    "Classification Task:\n",
    "- Decide about a good evaluation strategy and justify your choice.\n",
    "- Find best parameters for the following classification models: KNN classification, Logistic Regression, Linear Support Vector Machine, Kernelized Support Vector Machine, Decision Tree. \n",
    "- Which model gives the best results?\n",
    "\n",
    "Deliverables:\n",
    "- Submit IPython notebook. Use markdown to provide inline comments for this project.\n",
    "- Rename notebook with your group number and submit only one notebook. Before submitting, make sure everything runs as expected. To check that, restart the kernel (in the menubar, select Kernel > Restart) and then run all cells (in the menubar, select Cell > Run All).\n",
    "- Visualization encouraged.\n",
    "\n",
    "Questions regarding the project:\n",
    "- We have created a discussion board under Projects folder on e-learning. Create threads over there and post your queries related to project there.\n",
    "- There is a high possibility that your classmate has also faced the same problem and knows the solution. So this is an effort to encourage collaborative learning, reducing mails for frequently asked queries and also making all the information available to everyone.\n",
    "- Please check existing threads for your query before creating a new one. It goes without saying that do not share your code or complete solutions there.\n",
    "- We will also answer queries there. We will not be answering any project related queries through the mail."
   ]
  },
  {
   "cell_type": "code",
   "execution_count": 1,
   "metadata": {},
   "outputs": [],
   "source": [
    "import pandas as pd\n",
    "df = pd.read_table('Twitter.data',sep=',',header=None)"
   ]
  },
  {
   "cell_type": "markdown",
   "metadata": {},
   "source": [
    "### Change the variable frac to sample data accordingly. Ex. for 10% of data put frac=0.1"
   ]
  },
  {
   "cell_type": "code",
   "execution_count": 2,
   "metadata": {},
   "outputs": [],
   "source": [
    "#Using 1% data for initial models \n",
    "frac = 0.01"
   ]
  },
  {
   "cell_type": "code",
   "execution_count": 3,
   "metadata": {},
   "outputs": [],
   "source": [
    "df10 = df.sample(frac=frac,random_state=6).reset_index().iloc[:,1:]"
   ]
  },
  {
   "cell_type": "code",
   "execution_count": 4,
   "metadata": {},
   "outputs": [
    {
     "data": {
      "text/html": [
       "<div>\n",
       "<style scoped>\n",
       "    .dataframe tbody tr th:only-of-type {\n",
       "        vertical-align: middle;\n",
       "    }\n",
       "\n",
       "    .dataframe tbody tr th {\n",
       "        vertical-align: top;\n",
       "    }\n",
       "\n",
       "    .dataframe thead th {\n",
       "        text-align: right;\n",
       "    }\n",
       "</style>\n",
       "<table border=\"1\" class=\"dataframe\">\n",
       "  <thead>\n",
       "    <tr style=\"text-align: right;\">\n",
       "      <th></th>\n",
       "      <th>0</th>\n",
       "      <th>1</th>\n",
       "      <th>2</th>\n",
       "      <th>3</th>\n",
       "      <th>4</th>\n",
       "      <th>5</th>\n",
       "      <th>6</th>\n",
       "      <th>7</th>\n",
       "      <th>8</th>\n",
       "      <th>9</th>\n",
       "      <th>...</th>\n",
       "      <th>68</th>\n",
       "      <th>69</th>\n",
       "      <th>70</th>\n",
       "      <th>71</th>\n",
       "      <th>72</th>\n",
       "      <th>73</th>\n",
       "      <th>74</th>\n",
       "      <th>75</th>\n",
       "      <th>76</th>\n",
       "      <th>77</th>\n",
       "    </tr>\n",
       "  </thead>\n",
       "  <tbody>\n",
       "    <tr>\n",
       "      <th>0</th>\n",
       "      <td>2</td>\n",
       "      <td>3</td>\n",
       "      <td>5</td>\n",
       "      <td>0</td>\n",
       "      <td>0</td>\n",
       "      <td>3</td>\n",
       "      <td>9</td>\n",
       "      <td>1</td>\n",
       "      <td>1</td>\n",
       "      <td>4</td>\n",
       "      <td>...</td>\n",
       "      <td>1.000000</td>\n",
       "      <td>1.000000</td>\n",
       "      <td>2</td>\n",
       "      <td>3</td>\n",
       "      <td>5</td>\n",
       "      <td>0</td>\n",
       "      <td>0</td>\n",
       "      <td>3</td>\n",
       "      <td>9</td>\n",
       "      <td>1.5</td>\n",
       "    </tr>\n",
       "    <tr>\n",
       "      <th>1</th>\n",
       "      <td>57</td>\n",
       "      <td>35</td>\n",
       "      <td>167</td>\n",
       "      <td>137</td>\n",
       "      <td>149</td>\n",
       "      <td>188</td>\n",
       "      <td>224</td>\n",
       "      <td>31</td>\n",
       "      <td>2</td>\n",
       "      <td>95</td>\n",
       "      <td>...</td>\n",
       "      <td>1.031915</td>\n",
       "      <td>1.084821</td>\n",
       "      <td>57</td>\n",
       "      <td>35</td>\n",
       "      <td>167</td>\n",
       "      <td>137</td>\n",
       "      <td>149</td>\n",
       "      <td>188</td>\n",
       "      <td>224</td>\n",
       "      <td>178.0</td>\n",
       "    </tr>\n",
       "    <tr>\n",
       "      <th>2</th>\n",
       "      <td>4</td>\n",
       "      <td>0</td>\n",
       "      <td>1</td>\n",
       "      <td>1</td>\n",
       "      <td>1</td>\n",
       "      <td>0</td>\n",
       "      <td>7</td>\n",
       "      <td>2</td>\n",
       "      <td>0</td>\n",
       "      <td>1</td>\n",
       "      <td>...</td>\n",
       "      <td>0.000000</td>\n",
       "      <td>1.000000</td>\n",
       "      <td>4</td>\n",
       "      <td>0</td>\n",
       "      <td>1</td>\n",
       "      <td>1</td>\n",
       "      <td>1</td>\n",
       "      <td>0</td>\n",
       "      <td>7</td>\n",
       "      <td>0.0</td>\n",
       "    </tr>\n",
       "    <tr>\n",
       "      <th>3</th>\n",
       "      <td>372</td>\n",
       "      <td>375</td>\n",
       "      <td>1170</td>\n",
       "      <td>1398</td>\n",
       "      <td>1061</td>\n",
       "      <td>953</td>\n",
       "      <td>940</td>\n",
       "      <td>56</td>\n",
       "      <td>87</td>\n",
       "      <td>287</td>\n",
       "      <td>...</td>\n",
       "      <td>1.032495</td>\n",
       "      <td>1.022340</td>\n",
       "      <td>372</td>\n",
       "      <td>376</td>\n",
       "      <td>1170</td>\n",
       "      <td>1400</td>\n",
       "      <td>1062</td>\n",
       "      <td>954</td>\n",
       "      <td>940</td>\n",
       "      <td>424.5</td>\n",
       "    </tr>\n",
       "    <tr>\n",
       "      <th>4</th>\n",
       "      <td>1</td>\n",
       "      <td>0</td>\n",
       "      <td>0</td>\n",
       "      <td>1</td>\n",
       "      <td>4</td>\n",
       "      <td>3</td>\n",
       "      <td>1</td>\n",
       "      <td>1</td>\n",
       "      <td>0</td>\n",
       "      <td>0</td>\n",
       "      <td>...</td>\n",
       "      <td>1.000000</td>\n",
       "      <td>1.000000</td>\n",
       "      <td>1</td>\n",
       "      <td>0</td>\n",
       "      <td>0</td>\n",
       "      <td>1</td>\n",
       "      <td>4</td>\n",
       "      <td>3</td>\n",
       "      <td>1</td>\n",
       "      <td>1.0</td>\n",
       "    </tr>\n",
       "  </tbody>\n",
       "</table>\n",
       "<p>5 rows × 78 columns</p>\n",
       "</div>"
      ],
      "text/plain": [
       "    0    1     2     3     4    5    6   7   8    9   ...          68  \\\n",
       "0    2    3     5     0     0    3    9   1   1    4  ...    1.000000   \n",
       "1   57   35   167   137   149  188  224  31   2   95  ...    1.031915   \n",
       "2    4    0     1     1     1    0    7   2   0    1  ...    0.000000   \n",
       "3  372  375  1170  1398  1061  953  940  56  87  287  ...    1.032495   \n",
       "4    1    0     0     1     4    3    1   1   0    0  ...    1.000000   \n",
       "\n",
       "         69   70   71    72    73    74   75   76     77  \n",
       "0  1.000000    2    3     5     0     0    3    9    1.5  \n",
       "1  1.084821   57   35   167   137   149  188  224  178.0  \n",
       "2  1.000000    4    0     1     1     1    0    7    0.0  \n",
       "3  1.022340  372  376  1170  1400  1062  954  940  424.5  \n",
       "4  1.000000    1    0     0     1     4    3    1    1.0  \n",
       "\n",
       "[5 rows x 78 columns]"
      ]
     },
     "execution_count": 4,
     "metadata": {},
     "output_type": "execute_result"
    }
   ],
   "source": [
    "df10.head()"
   ]
  },
  {
   "cell_type": "code",
   "execution_count": 5,
   "metadata": {},
   "outputs": [
    {
     "data": {
      "text/html": [
       "<div>\n",
       "<style scoped>\n",
       "    .dataframe tbody tr th:only-of-type {\n",
       "        vertical-align: middle;\n",
       "    }\n",
       "\n",
       "    .dataframe tbody tr th {\n",
       "        vertical-align: top;\n",
       "    }\n",
       "\n",
       "    .dataframe thead th {\n",
       "        text-align: right;\n",
       "    }\n",
       "</style>\n",
       "<table border=\"1\" class=\"dataframe\">\n",
       "  <thead>\n",
       "    <tr style=\"text-align: right;\">\n",
       "      <th></th>\n",
       "      <th>0</th>\n",
       "      <th>1</th>\n",
       "      <th>2</th>\n",
       "      <th>3</th>\n",
       "      <th>4</th>\n",
       "      <th>5</th>\n",
       "      <th>6</th>\n",
       "      <th>7</th>\n",
       "      <th>8</th>\n",
       "      <th>9</th>\n",
       "      <th>...</th>\n",
       "      <th>68</th>\n",
       "      <th>69</th>\n",
       "      <th>70</th>\n",
       "      <th>71</th>\n",
       "      <th>72</th>\n",
       "      <th>73</th>\n",
       "      <th>74</th>\n",
       "      <th>75</th>\n",
       "      <th>76</th>\n",
       "      <th>77</th>\n",
       "    </tr>\n",
       "  </thead>\n",
       "  <tbody>\n",
       "    <tr>\n",
       "      <th>count</th>\n",
       "      <td>5832.000000</td>\n",
       "      <td>5832.000000</td>\n",
       "      <td>5832.000000</td>\n",
       "      <td>5832.000000</td>\n",
       "      <td>5832.000000</td>\n",
       "      <td>5832.000000</td>\n",
       "      <td>5832.000000</td>\n",
       "      <td>5832.000000</td>\n",
       "      <td>5832.000000</td>\n",
       "      <td>5832.000000</td>\n",
       "      <td>...</td>\n",
       "      <td>5832.000000</td>\n",
       "      <td>5832.000000</td>\n",
       "      <td>5832.000000</td>\n",
       "      <td>5832.000000</td>\n",
       "      <td>5832.000000</td>\n",
       "      <td>5832.000000</td>\n",
       "      <td>5832.000000</td>\n",
       "      <td>5832.000000</td>\n",
       "      <td>5832.000000</td>\n",
       "      <td>5832.000000</td>\n",
       "    </tr>\n",
       "    <tr>\n",
       "      <th>mean</th>\n",
       "      <td>145.738512</td>\n",
       "      <td>139.830418</td>\n",
       "      <td>162.042524</td>\n",
       "      <td>183.672668</td>\n",
       "      <td>206.521948</td>\n",
       "      <td>229.203532</td>\n",
       "      <td>227.774863</td>\n",
       "      <td>72.374486</td>\n",
       "      <td>69.963134</td>\n",
       "      <td>81.368827</td>\n",
       "      <td>...</td>\n",
       "      <td>1.137537</td>\n",
       "      <td>1.141796</td>\n",
       "      <td>146.197874</td>\n",
       "      <td>140.250686</td>\n",
       "      <td>162.468621</td>\n",
       "      <td>184.149348</td>\n",
       "      <td>207.034636</td>\n",
       "      <td>229.736626</td>\n",
       "      <td>228.340878</td>\n",
       "      <td>197.939215</td>\n",
       "    </tr>\n",
       "    <tr>\n",
       "      <th>std</th>\n",
       "      <td>489.242246</td>\n",
       "      <td>477.567758</td>\n",
       "      <td>538.459063</td>\n",
       "      <td>574.916182</td>\n",
       "      <td>661.499020</td>\n",
       "      <td>723.669855</td>\n",
       "      <td>743.005587</td>\n",
       "      <td>217.278028</td>\n",
       "      <td>213.628464</td>\n",
       "      <td>240.805349</td>\n",
       "      <td>...</td>\n",
       "      <td>1.087617</td>\n",
       "      <td>1.628154</td>\n",
       "      <td>490.159703</td>\n",
       "      <td>478.402839</td>\n",
       "      <td>539.371112</td>\n",
       "      <td>575.640072</td>\n",
       "      <td>662.234135</td>\n",
       "      <td>724.547843</td>\n",
       "      <td>743.874341</td>\n",
       "      <td>657.056563</td>\n",
       "    </tr>\n",
       "    <tr>\n",
       "      <th>min</th>\n",
       "      <td>0.000000</td>\n",
       "      <td>0.000000</td>\n",
       "      <td>0.000000</td>\n",
       "      <td>0.000000</td>\n",
       "      <td>0.000000</td>\n",
       "      <td>0.000000</td>\n",
       "      <td>0.000000</td>\n",
       "      <td>0.000000</td>\n",
       "      <td>0.000000</td>\n",
       "      <td>0.000000</td>\n",
       "      <td>...</td>\n",
       "      <td>0.000000</td>\n",
       "      <td>0.000000</td>\n",
       "      <td>0.000000</td>\n",
       "      <td>0.000000</td>\n",
       "      <td>0.000000</td>\n",
       "      <td>0.000000</td>\n",
       "      <td>0.000000</td>\n",
       "      <td>0.000000</td>\n",
       "      <td>0.000000</td>\n",
       "      <td>0.000000</td>\n",
       "    </tr>\n",
       "    <tr>\n",
       "      <th>25%</th>\n",
       "      <td>3.000000</td>\n",
       "      <td>3.000000</td>\n",
       "      <td>4.000000</td>\n",
       "      <td>4.000000</td>\n",
       "      <td>5.000000</td>\n",
       "      <td>6.000000</td>\n",
       "      <td>6.000000</td>\n",
       "      <td>2.000000</td>\n",
       "      <td>2.000000</td>\n",
       "      <td>2.000000</td>\n",
       "      <td>...</td>\n",
       "      <td>1.000000</td>\n",
       "      <td>1.000000</td>\n",
       "      <td>3.000000</td>\n",
       "      <td>3.000000</td>\n",
       "      <td>4.000000</td>\n",
       "      <td>4.000000</td>\n",
       "      <td>5.000000</td>\n",
       "      <td>6.000000</td>\n",
       "      <td>6.000000</td>\n",
       "      <td>5.000000</td>\n",
       "    </tr>\n",
       "    <tr>\n",
       "      <th>50%</th>\n",
       "      <td>19.000000</td>\n",
       "      <td>18.000000</td>\n",
       "      <td>21.000000</td>\n",
       "      <td>24.000000</td>\n",
       "      <td>27.000000</td>\n",
       "      <td>32.000000</td>\n",
       "      <td>32.000000</td>\n",
       "      <td>12.000000</td>\n",
       "      <td>11.000000</td>\n",
       "      <td>14.000000</td>\n",
       "      <td>...</td>\n",
       "      <td>1.000000</td>\n",
       "      <td>1.000000</td>\n",
       "      <td>19.000000</td>\n",
       "      <td>18.000000</td>\n",
       "      <td>21.000000</td>\n",
       "      <td>25.000000</td>\n",
       "      <td>27.500000</td>\n",
       "      <td>32.000000</td>\n",
       "      <td>32.500000</td>\n",
       "      <td>27.000000</td>\n",
       "    </tr>\n",
       "    <tr>\n",
       "      <th>75%</th>\n",
       "      <td>104.000000</td>\n",
       "      <td>100.250000</td>\n",
       "      <td>114.000000</td>\n",
       "      <td>132.000000</td>\n",
       "      <td>150.000000</td>\n",
       "      <td>166.250000</td>\n",
       "      <td>164.000000</td>\n",
       "      <td>60.000000</td>\n",
       "      <td>57.000000</td>\n",
       "      <td>63.000000</td>\n",
       "      <td>...</td>\n",
       "      <td>1.092444</td>\n",
       "      <td>1.093473</td>\n",
       "      <td>105.000000</td>\n",
       "      <td>101.000000</td>\n",
       "      <td>114.000000</td>\n",
       "      <td>133.000000</td>\n",
       "      <td>152.000000</td>\n",
       "      <td>168.000000</td>\n",
       "      <td>164.250000</td>\n",
       "      <td>141.500000</td>\n",
       "    </tr>\n",
       "    <tr>\n",
       "      <th>max</th>\n",
       "      <td>12543.000000</td>\n",
       "      <td>12565.000000</td>\n",
       "      <td>14339.000000</td>\n",
       "      <td>15445.000000</td>\n",
       "      <td>19810.000000</td>\n",
       "      <td>21114.000000</td>\n",
       "      <td>21498.000000</td>\n",
       "      <td>7883.000000</td>\n",
       "      <td>8291.000000</td>\n",
       "      <td>9040.000000</td>\n",
       "      <td>...</td>\n",
       "      <td>57.000000</td>\n",
       "      <td>91.500000</td>\n",
       "      <td>12607.000000</td>\n",
       "      <td>12568.000000</td>\n",
       "      <td>14343.000000</td>\n",
       "      <td>15449.000000</td>\n",
       "      <td>19815.000000</td>\n",
       "      <td>21124.000000</td>\n",
       "      <td>21502.000000</td>\n",
       "      <td>18807.000000</td>\n",
       "    </tr>\n",
       "  </tbody>\n",
       "</table>\n",
       "<p>8 rows × 78 columns</p>\n",
       "</div>"
      ],
      "text/plain": [
       "                 0             1             2             3             4   \\\n",
       "count   5832.000000   5832.000000   5832.000000   5832.000000   5832.000000   \n",
       "mean     145.738512    139.830418    162.042524    183.672668    206.521948   \n",
       "std      489.242246    477.567758    538.459063    574.916182    661.499020   \n",
       "min        0.000000      0.000000      0.000000      0.000000      0.000000   \n",
       "25%        3.000000      3.000000      4.000000      4.000000      5.000000   \n",
       "50%       19.000000     18.000000     21.000000     24.000000     27.000000   \n",
       "75%      104.000000    100.250000    114.000000    132.000000    150.000000   \n",
       "max    12543.000000  12565.000000  14339.000000  15445.000000  19810.000000   \n",
       "\n",
       "                 5             6            7            8            9   \\\n",
       "count   5832.000000   5832.000000  5832.000000  5832.000000  5832.000000   \n",
       "mean     229.203532    227.774863    72.374486    69.963134    81.368827   \n",
       "std      723.669855    743.005587   217.278028   213.628464   240.805349   \n",
       "min        0.000000      0.000000     0.000000     0.000000     0.000000   \n",
       "25%        6.000000      6.000000     2.000000     2.000000     2.000000   \n",
       "50%       32.000000     32.000000    12.000000    11.000000    14.000000   \n",
       "75%      166.250000    164.000000    60.000000    57.000000    63.000000   \n",
       "max    21114.000000  21498.000000  7883.000000  8291.000000  9040.000000   \n",
       "\n",
       "           ...                68           69            70            71  \\\n",
       "count      ...       5832.000000  5832.000000   5832.000000   5832.000000   \n",
       "mean       ...          1.137537     1.141796    146.197874    140.250686   \n",
       "std        ...          1.087617     1.628154    490.159703    478.402839   \n",
       "min        ...          0.000000     0.000000      0.000000      0.000000   \n",
       "25%        ...          1.000000     1.000000      3.000000      3.000000   \n",
       "50%        ...          1.000000     1.000000     19.000000     18.000000   \n",
       "75%        ...          1.092444     1.093473    105.000000    101.000000   \n",
       "max        ...         57.000000    91.500000  12607.000000  12568.000000   \n",
       "\n",
       "                 72            73            74            75            76  \\\n",
       "count   5832.000000   5832.000000   5832.000000   5832.000000   5832.000000   \n",
       "mean     162.468621    184.149348    207.034636    229.736626    228.340878   \n",
       "std      539.371112    575.640072    662.234135    724.547843    743.874341   \n",
       "min        0.000000      0.000000      0.000000      0.000000      0.000000   \n",
       "25%        4.000000      4.000000      5.000000      6.000000      6.000000   \n",
       "50%       21.000000     25.000000     27.500000     32.000000     32.500000   \n",
       "75%      114.000000    133.000000    152.000000    168.000000    164.250000   \n",
       "max    14343.000000  15449.000000  19815.000000  21124.000000  21502.000000   \n",
       "\n",
       "                 77  \n",
       "count   5832.000000  \n",
       "mean     197.939215  \n",
       "std      657.056563  \n",
       "min        0.000000  \n",
       "25%        5.000000  \n",
       "50%       27.000000  \n",
       "75%      141.500000  \n",
       "max    18807.000000  \n",
       "\n",
       "[8 rows x 78 columns]"
      ]
     },
     "execution_count": 5,
     "metadata": {},
     "output_type": "execute_result"
    }
   ],
   "source": [
    "df10.describe()"
   ]
  },
  {
   "cell_type": "code",
   "execution_count": 6,
   "metadata": {},
   "outputs": [],
   "source": [
    "%matplotlib inline\n",
    "import matplotlib.pyplot as plt"
   ]
  },
  {
   "cell_type": "markdown",
   "metadata": {},
   "source": [
    "### Plotting some variables against the dependent variable: Buzz"
   ]
  },
  {
   "cell_type": "code",
   "execution_count": 7,
   "metadata": {},
   "outputs": [
    {
     "data": {
      "text/plain": [
       "<matplotlib.legend.Legend at 0x22bb9c71a20>"
      ]
     },
     "execution_count": 7,
     "metadata": {},
     "output_type": "execute_result"
    },
    {
     "data": {
      "image/png": "[encoded data removed]",
      "text/plain": [
       "<Figure size 720x720 with 1 Axes>"
      ]
     },
     "metadata": {},
     "output_type": "display_data"
    },
    {
     "data": {
      "image/png": "[encoded data removed]",
      "text/plain": [
       "<Figure size 720x720 with 1 Axes>"
      ]
     },
     "metadata": {},
     "output_type": "display_data"
    }
   ],
   "source": [
    "plt.figure(1,figsize=[10,10])\n",
    "plt.plot(df10[77],df10[0],'o',label='Number of Created Discussions')\n",
    "plt.plot(df10[77],df10[28],'s',label='Number of Atomic Containers')\n",
    "plt.ylabel('Buzz')\n",
    "plt.legend(loc=2)\n",
    "plt.figure(2,figsize=[10,10])\n",
    "plt.plot(df10[77],df10[56],'o',label='Number of Authors')\n",
    "plt.plot(df10[77],df10[70],'s',label='Average Discussions Length')\n",
    "plt.ylabel('Buzz')\n",
    "plt.legend(loc=2)"
   ]
  },
  {
   "cell_type": "markdown",
   "metadata": {},
   "source": [
    "### Scaling data using <font color = 'red'>StandardScaler</font> and splitting into train and test using<font color = 'red'> train_test_split </font>"
   ]
  },
  {
   "cell_type": "code",
   "execution_count": 8,
   "metadata": {},
   "outputs": [],
   "source": [
    "X = df10.iloc[:,:77]\n",
    "y = df10.iloc[:,77]"
   ]
  },
  {
   "cell_type": "code",
   "execution_count": 9,
   "metadata": {},
   "outputs": [],
   "source": [
    "from sklearn.preprocessing import StandardScaler\n",
    "from sklearn.model_selection import train_test_split"
   ]
  },
  {
   "cell_type": "code",
   "execution_count": 10,
   "metadata": {},
   "outputs": [],
   "source": [
    "import warnings\n",
    "warnings.filterwarnings('ignore')\n",
    "X_train_org, X_test_org, y_train, y_test = train_test_split(X,y,random_state=6)\n",
    "sc = StandardScaler()\n",
    "X_train = sc.fit_transform(X_train_org)\n",
    "X_test = sc.transform(X_test_org)"
   ]
  },
  {
   "cell_type": "code",
   "execution_count": 11,
   "metadata": {},
   "outputs": [],
   "source": [
    "from sklearn.model_selection import GridSearchCV"
   ]
  },
  {
   "cell_type": "markdown",
   "metadata": {},
   "source": [
    "# <font color='red'>KNeighborsRegressor"
   ]
  },
  {
   "cell_type": "code",
   "execution_count": 12,
   "metadata": {},
   "outputs": [
    {
     "data": {
      "text/plain": [
       "GridSearchCV(cv=5, error_score='raise',\n",
       "       estimator=KNeighborsRegressor(algorithm='auto', leaf_size=30, metric='minkowski',\n",
       "          metric_params=None, n_jobs=1, n_neighbors=5, p=2,\n",
       "          weights='uniform'),\n",
       "       fit_params=None, iid=True, n_jobs=1,\n",
       "       param_grid={'n_neighbors': range(1, 10)}, pre_dispatch='2*n_jobs',\n",
       "       refit=True, return_train_score=True, scoring=None, verbose=0)"
      ]
     },
     "execution_count": 12,
     "metadata": {},
     "output_type": "execute_result"
    }
   ],
   "source": [
    "from sklearn.neighbors import KNeighborsRegressor\n",
    "param_grid = {'n_neighbors':range(1,10)}\n",
    "grid_search = GridSearchCV(KNeighborsRegressor(),param_grid,cv=5,return_train_score=True)\n",
    "grid_search.fit(X_train, y_train)"
   ]
  },
  {
   "cell_type": "code",
   "execution_count": 13,
   "metadata": {},
   "outputs": [
    {
     "data": {
      "text/plain": [
       "<matplotlib.legend.Legend at 0x22bbb568e48>"
      ]
     },
     "execution_count": 13,
     "metadata": {},
     "output_type": "execute_result"
    },
    {
     "data": {
      "image/png": "[encoded data removed]",
      "text/plain": [
       "<Figure size 720x360 with 1 Axes>"
      ]
     },
     "metadata": {},
     "output_type": "display_data"
    }
   ],
   "source": [
    "neighbors = [dict['n_neighbors'] for dict in grid_search.cv_results_['params']]\n",
    "plt.figure(figsize=(10,5))\n",
    "plt.plot(neighbors,grid_search.cv_results_['mean_train_score'],label='Train Score')\n",
    "plt.plot(neighbors,grid_search.cv_results_['mean_test_score'],label='Test Score')\n",
    "plt.xlabel('Neighbors(K)')\n",
    "plt.ylabel('Average Score by Cross-Validation')\n",
    "plt.title('KNeighborsRegression')\n",
    "plt.legend()"
   ]
  },
  {
   "cell_type": "code",
   "execution_count": 14,
   "metadata": {},
   "outputs": [],
   "source": [
    "knn_train_score = grid_search.score(X_train,y_train)\n",
    "knn_test_score = grid_search.score(X_test,y_test)"
   ]
  },
  {
   "cell_type": "code",
   "execution_count": 15,
   "metadata": {},
   "outputs": [
    {
     "data": {
      "text/html": [
       "<div>\n",
       "<style scoped>\n",
       "    .dataframe tbody tr th:only-of-type {\n",
       "        vertical-align: middle;\n",
       "    }\n",
       "\n",
       "    .dataframe tbody tr th {\n",
       "        vertical-align: top;\n",
       "    }\n",
       "\n",
       "    .dataframe thead th {\n",
       "        text-align: right;\n",
       "    }\n",
       "</style>\n",
       "<table border=\"1\" class=\"dataframe\">\n",
       "  <thead>\n",
       "    <tr style=\"text-align: right;\">\n",
       "      <th></th>\n",
       "      <th>Model</th>\n",
       "      <th>Parameters</th>\n",
       "      <th>Train Score</th>\n",
       "      <th>Test Score</th>\n",
       "    </tr>\n",
       "  </thead>\n",
       "  <tbody>\n",
       "    <tr>\n",
       "      <th>1</th>\n",
       "      <td>KNeighborsRegressor</td>\n",
       "      <td>{'n_neighbors': 4}</td>\n",
       "      <td>0.915891</td>\n",
       "      <td>0.940183</td>\n",
       "    </tr>\n",
       "  </tbody>\n",
       "</table>\n",
       "</div>"
      ],
      "text/plain": [
       "                 Model          Parameters  Train Score  Test Score\n",
       "1  KNeighborsRegressor  {'n_neighbors': 4}     0.915891    0.940183"
      ]
     },
     "execution_count": 15,
     "metadata": {},
     "output_type": "execute_result"
    }
   ],
   "source": [
    "knn_report= [['KNeighborsRegressor',grid_search.best_params_,knn_train_score,knn_test_score]]\n",
    "titles=['Model','Parameters','Train Score','Test Score']\n",
    "pd.DataFrame(knn_report,columns=titles,index=[1])"
   ]
  },
  {
   "cell_type": "markdown",
   "metadata": {},
   "source": [
    "# <font color='red'> LinearRegression"
   ]
  },
  {
   "cell_type": "code",
   "execution_count": 16,
   "metadata": {},
   "outputs": [],
   "source": [
    "from sklearn.linear_model import LinearRegression\n",
    "param_grid={'n_jobs':[-1]}\n",
    "lreg = GridSearchCV(LinearRegression(),param_grid=param_grid,cv=5,return_train_score=True)\n",
    "lreg.fit(X_train, y_train)\n",
    "lreg_train_score = round(lreg.score(X_train, y_train),6)\n",
    "lreg_test_score = round(lreg.score(X_test, y_test),6)"
   ]
  },
  {
   "cell_type": "code",
   "execution_count": 17,
   "metadata": {},
   "outputs": [
    {
     "data": {
      "text/html": [
       "<div>\n",
       "<style scoped>\n",
       "    .dataframe tbody tr th:only-of-type {\n",
       "        vertical-align: middle;\n",
       "    }\n",
       "\n",
       "    .dataframe tbody tr th {\n",
       "        vertical-align: top;\n",
       "    }\n",
       "\n",
       "    .dataframe thead th {\n",
       "        text-align: right;\n",
       "    }\n",
       "</style>\n",
       "<table border=\"1\" class=\"dataframe\">\n",
       "  <thead>\n",
       "    <tr style=\"text-align: right;\">\n",
       "      <th></th>\n",
       "      <th>Model</th>\n",
       "      <th>Parameters</th>\n",
       "      <th>Train Score</th>\n",
       "      <th>Test Score</th>\n",
       "    </tr>\n",
       "  </thead>\n",
       "  <tbody>\n",
       "    <tr>\n",
       "      <th>1</th>\n",
       "      <td>LinearRegression</td>\n",
       "      <td></td>\n",
       "      <td>0.970645</td>\n",
       "      <td>0.966473</td>\n",
       "    </tr>\n",
       "  </tbody>\n",
       "</table>\n",
       "</div>"
      ],
      "text/plain": [
       "              Model Parameters  Train Score  Test Score\n",
       "1  LinearRegression                0.970645    0.966473"
      ]
     },
     "execution_count": 17,
     "metadata": {},
     "output_type": "execute_result"
    }
   ],
   "source": [
    "lreg_report = [['LinearRegression','',lreg_train_score,lreg_test_score]]\n",
    "pd.DataFrame(lreg_report,columns=titles,index=[1])"
   ]
  },
  {
   "cell_type": "markdown",
   "metadata": {},
   "source": [
    "# <font color='red'> SGDRegressor"
   ]
  },
  {
   "cell_type": "code",
   "execution_count": 18,
   "metadata": {},
   "outputs": [],
   "source": [
    "from sklearn.linear_model import SGDRegressor"
   ]
  },
  {
   "cell_type": "code",
   "execution_count": 19,
   "metadata": {},
   "outputs": [
    {
     "data": {
      "text/plain": [
       "GridSearchCV(cv=5, error_score='raise',\n",
       "       estimator=SGDRegressor(alpha=0.0001, average=False, epsilon=0.1, eta0=0.01,\n",
       "       fit_intercept=True, l1_ratio=0.15, learning_rate='invscaling',\n",
       "       loss='squared_loss', max_iter=None, n_iter=None, penalty='l2',\n",
       "       power_t=0.25, random_state=None, shuffle=True, tol=None, verbose=0,\n",
       "       warm_start=False),\n",
       "       fit_params=None, iid=True, n_jobs=1,\n",
       "       param_grid={'n_iter': [10, 100, 1000, 10000], 'learning_rate': ['optimal'], 'penalty': ['l1', 'l2']},\n",
       "       pre_dispatch='2*n_jobs', refit=True, return_train_score=True,\n",
       "       scoring=None, verbose=0)"
      ]
     },
     "execution_count": 19,
     "metadata": {},
     "output_type": "execute_result"
    }
   ],
   "source": [
    "param_grid={'n_iter':[10,100,1000,10000],'learning_rate':['optimal'],'penalty':['l1','l2']}\n",
    "grid_search = GridSearchCV(SGDRegressor(),param_grid,cv=5,return_train_score=True)\n",
    "grid_search.fit(X_train,y_train)\n"
   ]
  },
  {
   "cell_type": "code",
   "execution_count": 20,
   "metadata": {},
   "outputs": [],
   "source": [
    "sgd_train_score = grid_search.score(X_train,y_train)\n",
    "sgd_test_score = grid_search.score(X_test,y_test)\n",
    "param = grid_search.best_params_"
   ]
  },
  {
   "cell_type": "code",
   "execution_count": 21,
   "metadata": {},
   "outputs": [
    {
     "data": {
      "text/html": [
       "<div>\n",
       "<style scoped>\n",
       "    .dataframe tbody tr th:only-of-type {\n",
       "        vertical-align: middle;\n",
       "    }\n",
       "\n",
       "    .dataframe tbody tr th {\n",
       "        vertical-align: top;\n",
       "    }\n",
       "\n",
       "    .dataframe thead th {\n",
       "        text-align: right;\n",
       "    }\n",
       "</style>\n",
       "<table border=\"1\" class=\"dataframe\">\n",
       "  <thead>\n",
       "    <tr style=\"text-align: right;\">\n",
       "      <th></th>\n",
       "      <th>Model</th>\n",
       "      <th>Parameters</th>\n",
       "      <th>Train Score</th>\n",
       "      <th>Test Score</th>\n",
       "    </tr>\n",
       "  </thead>\n",
       "  <tbody>\n",
       "    <tr>\n",
       "      <th>1</th>\n",
       "      <td>SGDRegressor</td>\n",
       "      <td>{'learning_rate': 'optimal', 'n_iter': 10000, ...</td>\n",
       "      <td>-5.778456e+07</td>\n",
       "      <td>-7.223959e+07</td>\n",
       "    </tr>\n",
       "  </tbody>\n",
       "</table>\n",
       "</div>"
      ],
      "text/plain": [
       "          Model                                         Parameters  \\\n",
       "1  SGDRegressor  {'learning_rate': 'optimal', 'n_iter': 10000, ...   \n",
       "\n",
       "    Train Score    Test Score  \n",
       "1 -5.778456e+07 -7.223959e+07  "
      ]
     },
     "execution_count": 21,
     "metadata": {},
     "output_type": "execute_result"
    }
   ],
   "source": [
    "sgd_report = [['SGDRegressor',param,sgd_train_score,sgd_test_score]]\n",
    "pd.DataFrame(sgd_report,columns=titles,index=[1])"
   ]
  },
  {
   "cell_type": "markdown",
   "metadata": {},
   "source": [
    "# <font color='red'> Ridge"
   ]
  },
  {
   "cell_type": "code",
   "execution_count": 22,
   "metadata": {},
   "outputs": [
    {
     "data": {
      "text/plain": [
       "GridSearchCV(cv=5, error_score='raise',\n",
       "       estimator=Ridge(alpha=1.0, copy_X=True, fit_intercept=True, max_iter=None,\n",
       "   normalize=False, random_state=None, solver='auto', tol=0.001),\n",
       "       fit_params=None, iid=True, n_jobs=1,\n",
       "       param_grid={'alpha': [0.01, 0.1, 1, 10, 100]},\n",
       "       pre_dispatch='2*n_jobs', refit=True, return_train_score=True,\n",
       "       scoring=None, verbose=0)"
      ]
     },
     "execution_count": 22,
     "metadata": {},
     "output_type": "execute_result"
    }
   ],
   "source": [
    "from sklearn.linear_model import Ridge\n",
    "\n",
    "ridge_train_array = []\n",
    "ridge_test_array = []\n",
    "\n",
    "param_grid={'alpha':[0.01,0.1,1,10,100]}\n",
    "ridge_grid_search = GridSearchCV(Ridge(),param_grid=param_grid,cv=5,return_train_score=True)\n",
    "ridge_grid_search.fit(X_train,y_train)"
   ]
  },
  {
   "cell_type": "code",
   "execution_count": 23,
   "metadata": {},
   "outputs": [],
   "source": [
    "ridge_train_score = ridge_grid_search.score(X_train,y_train)\n",
    "ridge_test_score = ridge_grid_search.score(X_test,y_test)\n",
    "ridge_param = ridge_grid_search.best_params_"
   ]
  },
  {
   "cell_type": "code",
   "execution_count": 24,
   "metadata": {},
   "outputs": [
    {
     "data": {
      "text/plain": [
       "[<matplotlib.lines.Line2D at 0x22bbb9cd8d0>]"
      ]
     },
     "execution_count": 24,
     "metadata": {},
     "output_type": "execute_result"
    },
    {
     "data": {
      "image/png": "[encoded data removed]",
      "text/plain": [
       "<Figure size 432x288 with 1 Axes>"
      ]
     },
     "metadata": {},
     "output_type": "display_data"
    }
   ],
   "source": [
    "ridge_param_values = [dict['alpha'] for dict in ridge_grid_search.cv_results_['params']]\n",
    "plt.plot(ridge_param_values,ridge_grid_search.cv_results_['mean_train_score'])\n",
    "plt.xscale('log')\n",
    "plt.plot(ridge_param_values,ridge_grid_search.cv_results_['mean_test_score'])"
   ]
  },
  {
   "cell_type": "code",
   "execution_count": 25,
   "metadata": {},
   "outputs": [
    {
     "data": {
      "text/html": [
       "<div>\n",
       "<style scoped>\n",
       "    .dataframe tbody tr th:only-of-type {\n",
       "        vertical-align: middle;\n",
       "    }\n",
       "\n",
       "    .dataframe tbody tr th {\n",
       "        vertical-align: top;\n",
       "    }\n",
       "\n",
       "    .dataframe thead th {\n",
       "        text-align: right;\n",
       "    }\n",
       "</style>\n",
       "<table border=\"1\" class=\"dataframe\">\n",
       "  <thead>\n",
       "    <tr style=\"text-align: right;\">\n",
       "      <th></th>\n",
       "      <th>Model</th>\n",
       "      <th>Parameters</th>\n",
       "      <th>Train Score</th>\n",
       "      <th>Test Score</th>\n",
       "    </tr>\n",
       "  </thead>\n",
       "  <tbody>\n",
       "    <tr>\n",
       "      <th>1</th>\n",
       "      <td>Ridge</td>\n",
       "      <td>{'alpha': 100}</td>\n",
       "      <td>0.964034</td>\n",
       "      <td>0.96677</td>\n",
       "    </tr>\n",
       "  </tbody>\n",
       "</table>\n",
       "</div>"
      ],
      "text/plain": [
       "   Model      Parameters  Train Score  Test Score\n",
       "1  Ridge  {'alpha': 100}     0.964034     0.96677"
      ]
     },
     "execution_count": 25,
     "metadata": {},
     "output_type": "execute_result"
    }
   ],
   "source": [
    "ridge_report = [['Ridge',ridge_param,ridge_train_score,ridge_test_score]]\n",
    "pd.DataFrame(ridge_report,columns=titles,index=[1])"
   ]
  },
  {
   "cell_type": "markdown",
   "metadata": {},
   "source": [
    "# <font color='red'> Lasso"
   ]
  },
  {
   "cell_type": "code",
   "execution_count": 26,
   "metadata": {},
   "outputs": [
    {
     "data": {
      "text/plain": [
       "GridSearchCV(cv=5, error_score='raise',\n",
       "       estimator=Lasso(alpha=1.0, copy_X=True, fit_intercept=True, max_iter=1000,\n",
       "   normalize=False, positive=False, precompute=False, random_state=None,\n",
       "   selection='cyclic', tol=0.0001, warm_start=False),\n",
       "       fit_params=None, iid=True, n_jobs=1,\n",
       "       param_grid={'alpha': [0.01, 0.1, 1, 10, 100]},\n",
       "       pre_dispatch='2*n_jobs', refit=True, return_train_score=True,\n",
       "       scoring=None, verbose=0)"
      ]
     },
     "execution_count": 26,
     "metadata": {},
     "output_type": "execute_result"
    }
   ],
   "source": [
    "from sklearn.linear_model import Lasso\n",
    "param_grid={'alpha':[0.01,0.1,1,10,100]}\n",
    "lasso_grid_search = GridSearchCV(Lasso(),param_grid=param_grid,cv=5,return_train_score=True)\n",
    "lasso_grid_search.fit(X_train,y_train)"
   ]
  },
  {
   "cell_type": "code",
   "execution_count": 27,
   "metadata": {},
   "outputs": [],
   "source": [
    "lasso_train_score = lasso_grid_search.score(X_train,y_train)\n",
    "lasso_test_score = lasso_grid_search.score(X_test, y_test)\n",
    "lasso_param = lasso_grid_search.best_params_"
   ]
  },
  {
   "cell_type": "code",
   "execution_count": 28,
   "metadata": {},
   "outputs": [
    {
     "data": {
      "text/plain": [
       "[<matplotlib.lines.Line2D at 0x22bb9c1fcf8>]"
      ]
     },
     "execution_count": 28,
     "metadata": {},
     "output_type": "execute_result"
    },
    {
     "data": {
      "image/png": "[encoded data removed]",
      "text/plain": [
       "<Figure size 432x288 with 1 Axes>"
      ]
     },
     "metadata": {},
     "output_type": "display_data"
    }
   ],
   "source": [
    "lasso_param_values = [dict['alpha'] for dict in lasso_grid_search.cv_results_['params']]\n",
    "plt.plot(lasso_param_values,lasso_grid_search.cv_results_['mean_train_score'])\n",
    "plt.xscale('log')\n",
    "plt.plot(lasso_param_values,lasso_grid_search.cv_results_['mean_test_score'])"
   ]
  },
  {
   "cell_type": "code",
   "execution_count": 29,
   "metadata": {},
   "outputs": [
    {
     "data": {
      "text/html": [
       "<div>\n",
       "<style scoped>\n",
       "    .dataframe tbody tr th:only-of-type {\n",
       "        vertical-align: middle;\n",
       "    }\n",
       "\n",
       "    .dataframe tbody tr th {\n",
       "        vertical-align: top;\n",
       "    }\n",
       "\n",
       "    .dataframe thead th {\n",
       "        text-align: right;\n",
       "    }\n",
       "</style>\n",
       "<table border=\"1\" class=\"dataframe\">\n",
       "  <thead>\n",
       "    <tr style=\"text-align: right;\">\n",
       "      <th></th>\n",
       "      <th>Model</th>\n",
       "      <th>Parameters</th>\n",
       "      <th>Train Score</th>\n",
       "      <th>Test Score</th>\n",
       "    </tr>\n",
       "  </thead>\n",
       "  <tbody>\n",
       "    <tr>\n",
       "      <th>1</th>\n",
       "      <td>Lasso</td>\n",
       "      <td>{'alpha': 1}</td>\n",
       "      <td>0.96543</td>\n",
       "      <td>0.965604</td>\n",
       "    </tr>\n",
       "  </tbody>\n",
       "</table>\n",
       "</div>"
      ],
      "text/plain": [
       "   Model    Parameters  Train Score  Test Score\n",
       "1  Lasso  {'alpha': 1}      0.96543    0.965604"
      ]
     },
     "execution_count": 29,
     "metadata": {},
     "output_type": "execute_result"
    }
   ],
   "source": [
    "lasso_report = [['Lasso',lasso_param,lasso_train_score,lasso_test_score]]\n",
    "pd.DataFrame(lasso_report,columns=titles,index=[1])"
   ]
  },
  {
   "cell_type": "markdown",
   "metadata": {},
   "source": [
    "# <font color='red'> Polynomial Regression"
   ]
  },
  {
   "cell_type": "code",
   "execution_count": 30,
   "metadata": {},
   "outputs": [],
   "source": [
    "from sklearn.preprocessing import PolynomialFeatures\n",
    "from sklearn.pipeline import Pipeline\n",
    "pipe = Pipeline([('poly',PolynomialFeatures()),('lreg',LinearRegression())])"
   ]
  },
  {
   "cell_type": "code",
   "execution_count": 31,
   "metadata": {},
   "outputs": [
    {
     "data": {
      "text/plain": [
       "GridSearchCV(cv=5, error_score='raise',\n",
       "       estimator=Pipeline(memory=None,\n",
       "     steps=[('poly', PolynomialFeatures(degree=2, include_bias=True, interaction_only=False)), ('lreg', LinearRegression(copy_X=True, fit_intercept=True, n_jobs=1, normalize=False))]),\n",
       "       fit_params=None, iid=True, n_jobs=1,\n",
       "       param_grid={'poly__degree': [2]}, pre_dispatch='2*n_jobs',\n",
       "       refit=True, return_train_score=True, scoring=None, verbose=0)"
      ]
     },
     "execution_count": 31,
     "metadata": {},
     "output_type": "execute_result"
    }
   ],
   "source": [
    "param_grid = {'poly__degree':[2]}\n",
    "poly_grid_search = GridSearchCV(pipe,param_grid=param_grid,cv=5,return_train_score=True)\n",
    "poly_grid_search.fit(X_train,y_train)"
   ]
  },
  {
   "cell_type": "code",
   "execution_count": 32,
   "metadata": {},
   "outputs": [],
   "source": [
    "poly_train_score = poly_grid_search.score(X_train,y_train)\n",
    "poly_test_score = poly_grid_search.score(X_test,y_test)\n",
    "poly_param = poly_grid_search.best_params_"
   ]
  },
  {
   "cell_type": "code",
   "execution_count": 33,
   "metadata": {
    "scrolled": false
   },
   "outputs": [
    {
     "data": {
      "text/html": [
       "<div>\n",
       "<style scoped>\n",
       "    .dataframe tbody tr th:only-of-type {\n",
       "        vertical-align: middle;\n",
       "    }\n",
       "\n",
       "    .dataframe tbody tr th {\n",
       "        vertical-align: top;\n",
       "    }\n",
       "\n",
       "    .dataframe thead th {\n",
       "        text-align: right;\n",
       "    }\n",
       "</style>\n",
       "<table border=\"1\" class=\"dataframe\">\n",
       "  <thead>\n",
       "    <tr style=\"text-align: right;\">\n",
       "      <th></th>\n",
       "      <th>Model</th>\n",
       "      <th>Parameters</th>\n",
       "      <th>Train Score</th>\n",
       "      <th>Test Score</th>\n",
       "    </tr>\n",
       "  </thead>\n",
       "  <tbody>\n",
       "    <tr>\n",
       "      <th>1</th>\n",
       "      <td>Polynomial Regression</td>\n",
       "      <td>{'poly__degree': 2}</td>\n",
       "      <td>0.999725</td>\n",
       "      <td>-3.155313e+12</td>\n",
       "    </tr>\n",
       "  </tbody>\n",
       "</table>\n",
       "</div>"
      ],
      "text/plain": [
       "                   Model           Parameters  Train Score    Test Score\n",
       "1  Polynomial Regression  {'poly__degree': 2}     0.999725 -3.155313e+12"
      ]
     },
     "execution_count": 33,
     "metadata": {},
     "output_type": "execute_result"
    }
   ],
   "source": [
    "poly_report = [['Polynomial Regression',poly_param,poly_train_score,poly_test_score]]\n",
    "pd.DataFrame(poly_report,columns=titles,index=[1])"
   ]
  },
  {
   "cell_type": "markdown",
   "metadata": {},
   "source": [
    "# <font color='red'> LinearSVR"
   ]
  },
  {
   "cell_type": "code",
   "execution_count": 34,
   "metadata": {},
   "outputs": [],
   "source": [
    "from sklearn.svm import LinearSVR\n",
    "param_grid={'C':[0.01,0.1,1,10,100]}\n",
    "lsvr_grid_search = GridSearchCV(LinearSVR(),param_grid=param_grid,cv=5,return_train_score=True)"
   ]
  },
  {
   "cell_type": "code",
   "execution_count": 35,
   "metadata": {},
   "outputs": [
    {
     "data": {
      "text/plain": [
       "GridSearchCV(cv=5, error_score='raise',\n",
       "       estimator=LinearSVR(C=1.0, dual=True, epsilon=0.0, fit_intercept=True,\n",
       "     intercept_scaling=1.0, loss='epsilon_insensitive', max_iter=1000,\n",
       "     random_state=None, tol=0.0001, verbose=0),\n",
       "       fit_params=None, iid=True, n_jobs=1,\n",
       "       param_grid={'C': [0.01, 0.1, 1, 10, 100]}, pre_dispatch='2*n_jobs',\n",
       "       refit=True, return_train_score=True, scoring=None, verbose=0)"
      ]
     },
     "execution_count": 35,
     "metadata": {},
     "output_type": "execute_result"
    }
   ],
   "source": [
    "lsvr_grid_search.fit(X_train,y_train)"
   ]
  },
  {
   "cell_type": "code",
   "execution_count": 36,
   "metadata": {},
   "outputs": [],
   "source": [
    "lsvr_train_score = lsvr_grid_search.score(X_train,y_train)\n",
    "lsvr_test_score = lsvr_grid_search.score(X_test,y_test)\n",
    "lsvr_param = lsvr_grid_search.best_params_"
   ]
  },
  {
   "cell_type": "code",
   "execution_count": 69,
   "metadata": {},
   "outputs": [
    {
     "data": {
      "text/html": [
       "<div>\n",
       "<style scoped>\n",
       "    .dataframe tbody tr th:only-of-type {\n",
       "        vertical-align: middle;\n",
       "    }\n",
       "\n",
       "    .dataframe tbody tr th {\n",
       "        vertical-align: top;\n",
       "    }\n",
       "\n",
       "    .dataframe thead th {\n",
       "        text-align: right;\n",
       "    }\n",
       "</style>\n",
       "<table border=\"1\" class=\"dataframe\">\n",
       "  <thead>\n",
       "    <tr style=\"text-align: right;\">\n",
       "      <th></th>\n",
       "      <th>Model</th>\n",
       "      <th>Parameters</th>\n",
       "      <th>Train Score</th>\n",
       "      <th>Test Score</th>\n",
       "    </tr>\n",
       "  </thead>\n",
       "  <tbody>\n",
       "    <tr>\n",
       "      <th>1</th>\n",
       "      <td>Linear SVR</td>\n",
       "      <td>{'C': 100}</td>\n",
       "      <td>0.9645</td>\n",
       "      <td>0.9666</td>\n",
       "    </tr>\n",
       "  </tbody>\n",
       "</table>\n",
       "</div>"
      ],
      "text/plain": [
       "        Model  Parameters  Train Score  Test Score\n",
       "1  Linear SVR  {'C': 100}       0.9645      0.9666"
      ]
     },
     "execution_count": 69,
     "metadata": {},
     "output_type": "execute_result"
    }
   ],
   "source": [
    "lsvr_report = [['Linear SVR',lsvr_param,lsvr_train_score,lsvr_test_score]]\n",
    "pd.DataFrame(lsvr_report,columns=titles,index=[1])"
   ]
  },
  {
   "cell_type": "markdown",
   "metadata": {},
   "source": [
    "# <font color='red'> RBF SVR"
   ]
  },
  {
   "cell_type": "code",
   "execution_count": 38,
   "metadata": {},
   "outputs": [
    {
     "data": {
      "text/plain": [
       "GridSearchCV(cv=5, error_score='raise',\n",
       "       estimator=SVR(C=1.0, cache_size=200, coef0=0.0, degree=3, epsilon=0.1, gamma='auto',\n",
       "  kernel='rbf', max_iter=-1, shrinking=True, tol=0.001, verbose=False),\n",
       "       fit_params=None, iid=True, n_jobs=1,\n",
       "       param_grid={'C': [0.01, 0.1, 1, 10, 100], 'gamma': [0.01, 0.1, 1, 10, 100]},\n",
       "       pre_dispatch='2*n_jobs', refit=True, return_train_score=True,\n",
       "       scoring=None, verbose=0)"
      ]
     },
     "execution_count": 38,
     "metadata": {},
     "output_type": "execute_result"
    }
   ],
   "source": [
    "from sklearn.svm import SVR\n",
    "param_grid = {'C':[0.01,0.1,1,10,100],'gamma':[0.01,0.1,1,10,100]}\n",
    "rbfsvr_grid_search = GridSearchCV(SVR(kernel='rbf'),param_grid=param_grid,cv=5,return_train_score=True)\n",
    "rbfsvr_grid_search.fit(X_train,y_train)"
   ]
  },
  {
   "cell_type": "code",
   "execution_count": 39,
   "metadata": {},
   "outputs": [],
   "source": [
    "rbfsvr_train_score = rbfsvr_grid_search.score(X_train,y_train)\n",
    "rbfsvr_test_score = rbfsvr_grid_search.score(X_test,y_test)\n",
    "rbfsvr_param = rbfsvr_grid_search.best_params_"
   ]
  },
  {
   "cell_type": "code",
   "execution_count": 40,
   "metadata": {},
   "outputs": [
    {
     "data": {
      "text/html": [
       "<div>\n",
       "<style scoped>\n",
       "    .dataframe tbody tr th:only-of-type {\n",
       "        vertical-align: middle;\n",
       "    }\n",
       "\n",
       "    .dataframe tbody tr th {\n",
       "        vertical-align: top;\n",
       "    }\n",
       "\n",
       "    .dataframe thead th {\n",
       "        text-align: right;\n",
       "    }\n",
       "</style>\n",
       "<table border=\"1\" class=\"dataframe\">\n",
       "  <thead>\n",
       "    <tr style=\"text-align: right;\">\n",
       "      <th></th>\n",
       "      <th>Model</th>\n",
       "      <th>Parameters</th>\n",
       "      <th>Train Score</th>\n",
       "      <th>Test Score</th>\n",
       "    </tr>\n",
       "  </thead>\n",
       "  <tbody>\n",
       "    <tr>\n",
       "      <th>1</th>\n",
       "      <td>RBF SVR</td>\n",
       "      <td>{'C': 100, 'gamma': 0.01}</td>\n",
       "      <td>0.321163</td>\n",
       "      <td>0.261887</td>\n",
       "    </tr>\n",
       "  </tbody>\n",
       "</table>\n",
       "</div>"
      ],
      "text/plain": [
       "     Model                 Parameters  Train Score  Test Score\n",
       "1  RBF SVR  {'C': 100, 'gamma': 0.01}     0.321163    0.261887"
      ]
     },
     "execution_count": 40,
     "metadata": {},
     "output_type": "execute_result"
    }
   ],
   "source": [
    "rbfsvr_report = [['RBF SVR',rbfsvr_param,rbfsvr_train_score,rbfsvr_test_score]]\n",
    "pd.DataFrame(rbfsvr_report,columns=titles,index=[1])"
   ]
  },
  {
   "cell_type": "markdown",
   "metadata": {},
   "source": [
    "# <font color='red'> Polynomial SVR\n",
    "### Due to high time consumption in computation of this model, we decided to exclude it from our analysis"
   ]
  },
  {
   "cell_type": "code",
   "execution_count": 41,
   "metadata": {},
   "outputs": [],
   "source": [
    "# from sklearn.svm import SVR\n",
    "# param_grid = {'C':[0.01,0.1,1,10,100],'gamma':[0.01,0.1,1,10,100],'degree':[2]}\n",
    "# polysvr_grid_search = GridSearchCV(SVR(kernel='poly'),param_grid=param_grid,cv=5,return_train_score=True)\n",
    "# polysvr_grid_search.fit(X_train,y_train)"
   ]
  },
  {
   "cell_type": "code",
   "execution_count": 42,
   "metadata": {},
   "outputs": [],
   "source": [
    "# polysvr_train_score = poly_grid_search.score(X_train,y_train)\n",
    "# polysvr_test_score = poly_grid_search.score(X_test,y_test)\n",
    "# polysvr_param = polysvr_grid_search.best_params_\n",
    "# polysvr_report = [['Polynomial SVR',polysvr_param,polysvr_train_score,polysvr_test_score]]\n",
    "# pd.DataFrame(polysvr_report,columns=titles,index=[1])"
   ]
  },
  {
   "cell_type": "markdown",
   "metadata": {},
   "source": [
    "# <font color='red'> Final Report"
   ]
  },
  {
   "cell_type": "code",
   "execution_count": 70,
   "metadata": {},
   "outputs": [
    {
     "data": {
      "text/html": [
       "<div>\n",
       "<style scoped>\n",
       "    .dataframe tbody tr th:only-of-type {\n",
       "        vertical-align: middle;\n",
       "    }\n",
       "\n",
       "    .dataframe tbody tr th {\n",
       "        vertical-align: top;\n",
       "    }\n",
       "\n",
       "    .dataframe thead th {\n",
       "        text-align: right;\n",
       "    }\n",
       "</style>\n",
       "<table border=\"1\" class=\"dataframe\">\n",
       "  <thead>\n",
       "    <tr style=\"text-align: right;\">\n",
       "      <th></th>\n",
       "      <th>Model</th>\n",
       "      <th>Parameters</th>\n",
       "      <th>Train Score</th>\n",
       "      <th>Test Score</th>\n",
       "    </tr>\n",
       "  </thead>\n",
       "  <tbody>\n",
       "    <tr>\n",
       "      <th>4</th>\n",
       "      <td>Ridge</td>\n",
       "      <td>{'alpha': 100}</td>\n",
       "      <td>0.9640</td>\n",
       "      <td>0.9668</td>\n",
       "    </tr>\n",
       "    <tr>\n",
       "      <th>7</th>\n",
       "      <td>Linear SVR</td>\n",
       "      <td>{'C': 100}</td>\n",
       "      <td>0.9645</td>\n",
       "      <td>0.9666</td>\n",
       "    </tr>\n",
       "    <tr>\n",
       "      <th>2</th>\n",
       "      <td>LinearRegression</td>\n",
       "      <td></td>\n",
       "      <td>0.9706</td>\n",
       "      <td>0.9665</td>\n",
       "    </tr>\n",
       "    <tr>\n",
       "      <th>5</th>\n",
       "      <td>Lasso</td>\n",
       "      <td>{'alpha': 1}</td>\n",
       "      <td>0.9654</td>\n",
       "      <td>0.9656</td>\n",
       "    </tr>\n",
       "    <tr>\n",
       "      <th>1</th>\n",
       "      <td>KNeighborsRegressor</td>\n",
       "      <td>{'n_neighbors': 4}</td>\n",
       "      <td>0.9159</td>\n",
       "      <td>0.9402</td>\n",
       "    </tr>\n",
       "    <tr>\n",
       "      <th>3</th>\n",
       "      <td>SGDRegressor</td>\n",
       "      <td>{'learning_rate': 'optimal', 'n_iter': 10000, ...</td>\n",
       "      <td>-57784563.4107</td>\n",
       "      <td>-72239593.4066</td>\n",
       "    </tr>\n",
       "    <tr>\n",
       "      <th>6</th>\n",
       "      <td>Polynomial Regression</td>\n",
       "      <td>{'poly__degree': 2}</td>\n",
       "      <td>0.9997</td>\n",
       "      <td>-3155313154977.7153</td>\n",
       "    </tr>\n",
       "  </tbody>\n",
       "</table>\n",
       "</div>"
      ],
      "text/plain": [
       "                   Model                                         Parameters  \\\n",
       "4                  Ridge                                     {'alpha': 100}   \n",
       "7             Linear SVR                                         {'C': 100}   \n",
       "2       LinearRegression                                                      \n",
       "5                  Lasso                                       {'alpha': 1}   \n",
       "1    KNeighborsRegressor                                 {'n_neighbors': 4}   \n",
       "3           SGDRegressor  {'learning_rate': 'optimal', 'n_iter': 10000, ...   \n",
       "6  Polynomial Regression                                {'poly__degree': 2}   \n",
       "\n",
       "     Train Score          Test Score  \n",
       "4         0.9640              0.9668  \n",
       "7         0.9645              0.9666  \n",
       "2         0.9706              0.9665  \n",
       "5         0.9654              0.9656  \n",
       "1         0.9159              0.9402  \n",
       "3 -57784563.4107      -72239593.4066  \n",
       "6         0.9997 -3155313154977.7153  "
      ]
     },
     "execution_count": 70,
     "metadata": {},
     "output_type": "execute_result"
    }
   ],
   "source": [
    "pd.options.display.float_format = '{:.4f}'.format\n",
    "final_report = pd.DataFrame(knn_report+lreg_report+sgd_report+ridge_report+lasso_report+poly_report+lsvr_report,columns=titles,index=range(1,8))\n",
    "final_report = final_report.sort_values(by='Test Score',ascending=False)\n",
    "final_report"
   ]
  },
  {
   "cell_type": "code",
   "execution_count": 71,
   "metadata": {},
   "outputs": [
    {
     "data": {
      "text/plain": [
       "<matplotlib.legend.Legend at 0x22bae6284e0>"
      ]
     },
     "execution_count": 71,
     "metadata": {},
     "output_type": "execute_result"
    },
    {
     "data": {
      "image/png": "[encoded data removed]",
      "text/plain": [
       "<Figure size 1080x360 with 1 Axes>"
      ]
     },
     "metadata": {},
     "output_type": "display_data"
    }
   ],
   "source": [
    "import numpy as np\n",
    "plt.figure(figsize=(15,5))\n",
    "plt.plot(final_report.iloc[:,0],final_report.iloc[:,2],label='Train Score')\n",
    "plt.plot(final_report.iloc[:,0],final_report.iloc[:,3],label='Test Score')\n",
    "plt.ylim(0.8,1)\n",
    "plt.legend()"
   ]
  },
  {
   "cell_type": "markdown",
   "metadata": {},
   "source": [
    "# <font color = 'red'> Ridge provides the best test score with alpha value of 100.\n",
    "# <font color = 'red'> Running the model with full data using Ridge Regression."
   ]
  },
  {
   "cell_type": "code",
   "execution_count": 62,
   "metadata": {},
   "outputs": [],
   "source": [
    "Full_X = df.iloc[:,:77]\n",
    "Full_y = df[77]"
   ]
  },
  {
   "cell_type": "code",
   "execution_count": 63,
   "metadata": {},
   "outputs": [],
   "source": [
    "Full_X_train_org, Full_X_test_org, Full_y_train, Full_y_test = train_test_split(Full_X,Full_y,random_state=6)\n",
    "sc = StandardScaler()\n",
    "Full_X_train = sc.fit_transform(Full_X_train_org)\n",
    "Full_X_test = sc.transform(Full_X_test_org)"
   ]
  },
  {
   "cell_type": "code",
   "execution_count": 66,
   "metadata": {},
   "outputs": [],
   "source": [
    "from sklearn.model_selection import cross_val_score\n",
    "from sklearn.model_selection import KFold\n",
    "final_ridge = Ridge(alpha=100)\n",
    "kfold = KFold(n_splits=5)"
   ]
  },
  {
   "cell_type": "code",
   "execution_count": 67,
   "metadata": {},
   "outputs": [],
   "source": [
    "cv_train_scores = cross_val_score(final_ridge, Full_X_train,Full_y_train, cv=kfold)\n",
    "cv_test_scores = cross_val_score(final_ridge, Full_X_test,Full_y_test, cv=kfold)"
   ]
  },
  {
   "cell_type": "code",
   "execution_count": 68,
   "metadata": {},
   "outputs": [
    {
     "name": "stdout",
     "output_type": "stream",
     "text": [
      "Cross validation train score is : 0.94133\n",
      "Cross validation test score is : 0.90767\n"
     ]
    }
   ],
   "source": [
    "print('Cross validation train score is : {0}\\nCross validation test score is : {1}'.format(round(cv_train_scores.mean(),5), round(cv_test_scores.mean(),5)))"
   ]
  },
  {
   "cell_type": "code",
   "execution_count": null,
   "metadata": {},
   "outputs": [],
   "source": []
  }
 ],
 "metadata": {
  "kernelspec": {
   "display_name": "Python 3",
   "language": "python",
   "name": "python3"
  },
  "language_info": {
   "codemirror_mode": {
    "name": "ipython",
    "version": 3
   },
   "file_extension": ".py",
   "mimetype": "text/x-python",
   "name": "python",
   "nbconvert_exporter": "python",
   "pygments_lexer": "ipython3",
   "version": "3.6.4"
  }
 },
 "nbformat": 4,
 "nbformat_minor": 2
}
